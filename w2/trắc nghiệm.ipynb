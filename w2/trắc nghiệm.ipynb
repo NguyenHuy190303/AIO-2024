{
 "cells": [
  {
   "cell_type": "code",
   "execution_count": 1,
   "metadata": {},
   "outputs": [
    {
     "name": "stdout",
     "output_type": "stream",
     "text": [
      "[5, 5, 5, 5, 10, 12, 33, 33]\n"
     ]
    }
   ],
   "source": [
    "def max_kernel(num_list, k):\n",
    "    result = []\n",
    "    for i in range(len(num_list) - k + 1):\n",
    "        result.append(max(num_list[i:i + k]))    \n",
    "    return result\n",
    "\n",
    "assert max_kernel ([3 , 4 , 5 , 1 , -44] , 3) == [5 , 5 , 5]\n",
    "num_list = [3 , 4 , 5 , 1 , -44 , 5 ,10 , 12 ,33 , 1]\n",
    "k = 3\n",
    "print ( max_kernel ( num_list , k ) )"
   ]
  },
  {
   "cell_type": "code",
   "execution_count": 1,
   "metadata": {},
   "outputs": [
    {
     "name": "stdout",
     "output_type": "stream",
     "text": [
      "{'s': 2, 'm': 1, 'i': 1, 'l': 1, 'e': 1}\n"
     ]
    }
   ],
   "source": [
    "def character_count(word):\n",
    "    character_statistic = {}\n",
    "\n",
    "    # Iterate over each character in the word\n",
    "    for char in word:\n",
    "        # Check if the character is already a key in the dictionary\n",
    "        if char in character_statistic:\n",
    "            # If it exists, increment its count by 1\n",
    "            character_statistic[char] += 1\n",
    "        else:\n",
    "            # If it doesn't exist, add it with a count of 1\n",
    "            character_statistic[char] = 1\n",
    "\n",
    "    return character_statistic\n",
    "\n",
    "\n",
    "# Test case\n",
    "assert character_count(\"Baby\") == {'B': 1, 'a': 1, 'b': 1, 'y': 1}\n",
    "print(character_count('smiles')) \n"
   ]
  },
  {
   "cell_type": "code",
   "execution_count": 8,
   "metadata": {},
   "outputs": [
    {
     "name": "stdout",
     "output_type": "stream",
     "text": [
      "6\n"
     ]
    },
    {
     "name": "stderr",
     "output_type": "stream",
     "text": [
      "Downloading...\n",
      "From: https://drive.google.com/uc?id=1IBScGdW2xlNsc9v5zSAya548kNgiOrko\n",
      "To: c:\\Users\\Huy\\OneDrive - Vaasan ammattikorkeakoulu\\Python\\AIO-Ex\\AIO-Exercise\\w2\\P1_data.txt\n",
      "\n",
      "  0%|          | 0.00/747 [00:00<?, ?B/s]\n",
      "100%|██████████| 747/747 [00:00<?, ?B/s] \n"
     ]
    }
   ],
   "source": [
    "! gdown https://drive.google.com/uc?id=1IBScGdW2xlNsc9v5zSAya548kNgiOrko\n",
    "import string\n",
    "\n",
    "def count_word(file_path):\n",
    "    counter = {}\n",
    "\n",
    "    # Open the file in read mode\n",
    "    try:\n",
    "        with open(file_path, 'r') as file:\n",
    "            # Read the entire file content\n",
    "            text = file.read()\n",
    "\n",
    "            # Remove punctuation and convert to lowercase for consistent counting\n",
    "            for punc in string.punctuation:\n",
    "                text = text.replace(punc, '')\n",
    "            text = text.lower()\n",
    "\n",
    "            # Split the text into a list of words\n",
    "            words = text.split()\n",
    "\n",
    "            # Iterate over each word\n",
    "            for word in words:\n",
    "                if word in counter:\n",
    "                    # If the word exists, increment its count\n",
    "                    counter[word] += 1\n",
    "                else:\n",
    "                    # If the word doesn't exist, add it with a count of 1\n",
    "                    counter[word] = 1\n",
    "\n",
    "    except FileNotFoundError:\n",
    "        print(f\"File not found: {file_path}\")\n",
    "        return {}  # Return an empty dictionary if the file is not found\n",
    "\n",
    "    return counter\n",
    "\n",
    "\n",
    "file_path = 'P1_data.txt'  # Make sure this path is correct\n",
    "result = count_word(file_path)\n",
    "assert result['who'] == 3 \n",
    "print(result['man'])\n"
   ]
  },
  {
   "cell_type": "code",
   "execution_count": 12,
   "metadata": {},
   "outputs": [
    {
     "name": "stdout",
     "output_type": "stream",
     "text": [
      "3\n"
     ]
    }
   ],
   "source": [
    "def levenshtein_distance(token1, token2):\n",
    "    if not token1: \n",
    "        return len(token2)\n",
    "    if not token2:\n",
    "        return len(token1)\n",
    "\n",
    "    # Initialize the distance matrix\n",
    "    rows = len(token1) + 1\n",
    "    cols = len(token2) + 1\n",
    "    distances = [[0 for _ in range(cols)] for _ in range(rows)]  \n",
    "\n",
    "    # Initialize first row and column with sequential numbers\n",
    "    for i in range(rows):\n",
    "        distances[i][0] = i\n",
    "    for j in range(cols):\n",
    "        distances[0][j] = j\n",
    "\n",
    "    # Populate the rest of the matrix\n",
    "    for i in range(1, rows):\n",
    "        for j in range(1, cols):\n",
    "            if token1[i - 1] == token2[j - 1]:  # Check for matching characters\n",
    "                distances[i][j] = distances[i - 1][j - 1]\n",
    "            else:\n",
    "                distances[i][j] = 1 + min(distances[i][j - 1], distances[i - 1][j], distances[i - 1][j - 1])\n",
    "\n",
    "    return distances[rows - 1][cols - 1]  # Bottom-right corner holds the final distance\n",
    "\n",
    "\n",
    "# Test cases\n",
    "assert levenshtein_distance(\"hi\", \"hello\") == 4\n",
    "print(levenshtein_distance(\"hola\", \"hello\"))  # Output: 1\n"
   ]
  },
  {
   "cell_type": "code",
   "execution_count": 13,
   "metadata": {},
   "outputs": [
    {
     "name": "stdout",
     "output_type": "stream",
     "text": [
      " True \n"
     ]
    }
   ],
   "source": [
    "def check_the_number ( N ) :\n",
    "    list_of_numbers = []\n",
    "    result = \"\"\n",
    "    for i in range (1 , 5) :\n",
    "    # Your code here\n",
    "        list_of_numbers.append(i)\n",
    "    # Su dung append them i vao trong list_of_number\n",
    "    if N in list_of_numbers :\n",
    "        results = \" True \"\n",
    "    if N not in list_of_numbers :\n",
    "        results = \" False \"\n",
    "    return results\n",
    "\n",
    "N = 7\n",
    "assert check_the_number ( N ) == \" False \"\n",
    "N = 2\n",
    "results = check_the_number ( N )\n",
    "print (results)"
   ]
  },
  {
   "cell_type": "code",
   "execution_count": 15,
   "metadata": {},
   "outputs": [
    {
     "name": "stdout",
     "output_type": "stream",
     "text": [
      "[2, 2, 2, 1, 1]\n"
     ]
    }
   ],
   "source": [
    "def my_function ( data , max , min) :\n",
    "    result = []\n",
    "    for i in data :\n",
    "    # Your code here\n",
    "        if i < min: \n",
    "            result.append(min)\n",
    "    # Neu i < min thi them min vao result\n",
    "        elif i > max :\n",
    "            result . append ( max )\n",
    "        else :\n",
    "            result . append ( i )\n",
    "    return result\n",
    "\n",
    "my_list = [5 , 2 , 5 , 0 , 1]\n",
    "max = 1\n",
    "min = 0\n",
    "assert my_function (max = max , min = min , data = my_list ) == [1 , 1 , 1 , 0 , 1]\n",
    "my_list = [10 , 2 , 5 , 0 , 1]\n",
    "max = 2\n",
    "min = 1\n",
    "print ( my_function (max = max , min = min , data = my_list ) )"
   ]
  },
  {
   "cell_type": "code",
   "execution_count": 23,
   "metadata": {},
   "outputs": [
    {
     "name": "stdout",
     "output_type": "stream",
     "text": [
      "[1, 2, 3, 4, 0, 0]\n"
     ]
    }
   ],
   "source": [
    "def my_function (x , y) :\n",
    "    # Your code here\n",
    "    #Su dung extend de noi y vao x\n",
    "    x.extend(y)\n",
    "    return x\n",
    "    # return x\n",
    "\n",
    "list_num1 = ['a', 2 , 5]\n",
    "list_num2 = [1 , 1]\n",
    "list_num3 = [0 , 0]\n",
    "\n",
    "assert my_function (list_num1 , my_function (list_num2 , list_num3)) == ['a', 2 , 5 , 1 , 1 , 0 , 0]\n",
    "\n",
    "list_num1 = [1 , 2]\n",
    "list_num2 = [3 , 4]\n",
    "list_num3 = [0 , 0]\n",
    "\n",
    "print (my_function (list_num1 , my_function (list_num2 , list_num3 )))"
   ]
  },
  {
   "cell_type": "code",
   "execution_count": 24,
   "metadata": {},
   "outputs": [
    {
     "name": "stdout",
     "output_type": "stream",
     "text": [
      "-1\n"
     ]
    }
   ],
   "source": [
    "def my_function(n):\n",
    "    # Your code here\n",
    "    min_value = n[0]  # Assume the first element is the minimum initially\n",
    "    for num in n:\n",
    "        if num < min_value:\n",
    "            min_value = num  # Update min_value if a smaller number is found\n",
    "    return min_value\n",
    "    \n",
    "\n",
    "my_list = [1 , 22 , 93 , -100]\n",
    "assert my_function ( my_list ) == -100\n",
    "\n",
    "my_list = [1 , 2 , 3 , -1]\n",
    "print ( my_function ( my_list ) )"
   ]
  },
  {
   "cell_type": "code",
   "execution_count": 25,
   "metadata": {},
   "outputs": [
    {
     "name": "stdout",
     "output_type": "stream",
     "text": [
      "9\n"
     ]
    }
   ],
   "source": [
    "def my_function (n) :\n",
    "    # Your code here\n",
    "    max_value = n[0]  # Assume the first element is the maximum initially\n",
    "    for num in n:\n",
    "        if num > max_value:\n",
    "            max_value = num  # Update max_value if a larger number is found\n",
    "    return max_value\n",
    "my_list = [1001 , 9 , 100 , 0]\n",
    "assert my_function ( my_list ) == 1001\n",
    "my_list = [1 , 9 , 9 , 0]\n",
    "print (my_function (my_list))"
   ]
  },
  {
   "cell_type": "code",
   "execution_count": 26,
   "metadata": {},
   "outputs": [
    {
     "name": "stdout",
     "output_type": "stream",
     "text": [
      "True\n"
     ]
    }
   ],
   "source": [
    "def My_function(integers, number=1):\n",
    "    return any(num == number for num in integers) \n",
    "\n",
    "# Test cases (unchanged)\n",
    "my_list = [1, 3, 9, 4]\n",
    "assert My_function(my_list, -1) == False\n",
    "\n",
    "my_list = [1, 2, 3, 4]\n",
    "print(My_function(my_list, 2))  # Output: True\n"
   ]
  },
  {
   "cell_type": "code",
   "execution_count": 28,
   "metadata": {},
   "outputs": [
    {
     "name": "stdout",
     "output_type": "stream",
     "text": [
      "1.0\n"
     ]
    }
   ],
   "source": [
    "def my_function(list_nums=[0, 1, 2]):\n",
    "    var = 0\n",
    "    for i in list_nums:\n",
    "        var += i\n",
    "    return var / len(list_nums)  # Calculate and return the average\n",
    "\n",
    "\n",
    "# Test cases\n",
    "assert my_function([4, 6]) == 5.0  # Test with a different list\n",
    "print(my_function())  # Output: 1.0\n"
   ]
  },
  {
   "cell_type": "code",
   "execution_count": 29,
   "metadata": {},
   "outputs": [
    {
     "name": "stdout",
     "output_type": "stream",
     "text": [
      "[3, 6]\n"
     ]
    }
   ],
   "source": [
    "def my_function(data):\n",
    "\n",
    "    var = []\n",
    "    for i in data:\n",
    "        if i % 3 == 0:    # Check if the number is divisible by 3 (remainder is 0)\n",
    "            var.append(i) # Add the number to the 'var' list\n",
    "\n",
    "    return var\n",
    "\n",
    "# Test cases (unchanged)\n",
    "assert my_function([3, 9, 4, 5]) == [3, 9]\n",
    "print(my_function([1, 2, 3, 5, 6]))  # Output: [3, 6]\n"
   ]
  },
  {
   "cell_type": "code",
   "execution_count": 30,
   "metadata": {},
   "outputs": [
    {
     "name": "stdout",
     "output_type": "stream",
     "text": [
      "24\n"
     ]
    }
   ],
   "source": [
    "def my_function(y):\n",
    "    var = 1\n",
    "    while y > 1:\n",
    "        var *= y  # Multiply var by the current value of y\n",
    "        y -= 1    # Decrement y\n",
    "\n",
    "    return var\n",
    "\n",
    "# Test cases (unchanged)\n",
    "assert my_function(8) == 40320  \n",
    "print(my_function(4))  # Output: 24\n"
   ]
  },
  {
   "cell_type": "code",
   "execution_count": 31,
   "metadata": {},
   "outputs": [
    {
     "name": "stdout",
     "output_type": "stream",
     "text": [
      "tocirpa\n"
     ]
    }
   ],
   "source": [
    "def my_function(x):\n",
    "    reversed_string = x[::-1]  # Slice notation to reverse the string\n",
    "    return reversed_string\n",
    "\n",
    "\n",
    "# Test cases (unchanged)\n",
    "x = 'I can do it'\n",
    "assert my_function(x) == \"ti od nac I\"\n",
    "\n",
    "x = 'apricot'\n",
    "print(my_function(x))  # Output: \"tocirpa\"\n"
   ]
  },
  {
   "cell_type": "code",
   "execution_count": 32,
   "metadata": {},
   "outputs": [
    {
     "name": "stdout",
     "output_type": "stream",
     "text": [
      "['T', 'T', 'T', 'N']\n"
     ]
    }
   ],
   "source": [
    "def function_helper(x):\n",
    "\n",
    "    return 'T' if x > 0 else 'N'\n",
    "\n",
    "def my_function(data):\n",
    "\n",
    "    res = [function_helper(x) for x in data]  \n",
    "    return res\n",
    "\n",
    "# Test cases (unchanged)\n",
    "data = [10, 0, -10, -1]\n",
    "assert my_function(data) == ['T', 'N', 'N', 'N']\n",
    "\n",
    "data = [2, 3, 5, -1]\n",
    "print(my_function(data))  # Output: ['T', 'T', 'T', 'N']\n"
   ]
  },
  {
   "cell_type": "code",
   "execution_count": 33,
   "metadata": {},
   "outputs": [
    {
     "name": "stdout",
     "output_type": "stream",
     "text": [
      "[9, 8, 1]\n"
     ]
    }
   ],
   "source": [
    "def function_helper(x, data):\n",
    "\n",
    "    for i in data:\n",
    "        if x == i:  # If the number is already in the list, return 0\n",
    "            return 0\n",
    "    return 1  # If the number is not found, return 1\n",
    "\n",
    "\n",
    "def my_function(data):\n",
    "\n",
    "    res = []\n",
    "    for i in data:\n",
    "        if function_helper(i, res):  # If the number is not in res yet, add it\n",
    "            res.append(i)\n",
    "\n",
    "    return res\n",
    "\n",
    "\n",
    "# Test cases (unchanged)\n",
    "lst = [10, 10, 9, 7, 7]\n",
    "assert my_function(lst) == [10, 9, 7]\n",
    "\n",
    "lst = [9, 9, 8, 1, 1]\n",
    "print(my_function(lst))  # Output: [9, 8, 1]\n"
   ]
  }
 ],
 "metadata": {
  "kernelspec": {
   "display_name": "aio2024_env",
   "language": "python",
   "name": "python3"
  },
  "language_info": {
   "codemirror_mode": {
    "name": "ipython",
    "version": 3
   },
   "file_extension": ".py",
   "mimetype": "text/x-python",
   "name": "python",
   "nbconvert_exporter": "python",
   "pygments_lexer": "ipython3",
   "version": "3.11.7"
  }
 },
 "nbformat": 4,
 "nbformat_minor": 2
}
