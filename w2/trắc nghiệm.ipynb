{
 "cells": [
  {
   "cell_type": "code",
   "execution_count": 1,
   "metadata": {},
   "outputs": [
    {
     "name": "stdout",
     "output_type": "stream",
     "text": [
      "[5, 5, 5, 5, 10, 12, 33, 33]\n"
     ]
    }
   ],
   "source": [
    "def max_kernel(num_list, k):\n",
    "    result = []\n",
    "    for i in range(len(num_list) - k + 1):\n",
    "        result.append(max(num_list[i:i + k]))    \n",
    "    return result\n",
    "\n",
    "assert max_kernel ([3 , 4 , 5 , 1 , -44] , 3) == [5 , 5 , 5]\n",
    "num_list = [3 , 4 , 5 , 1 , -44 , 5 ,10 , 12 ,33 , 1]\n",
    "k = 3\n",
    "print ( max_kernel ( num_list , k ) )"
   ]
  },
  {
   "cell_type": "code",
   "execution_count": null,
   "metadata": {},
   "outputs": [],
   "source": [
    "!gdow "
   ]
  },
  {
   "cell_type": "code",
   "execution_count": 4,
   "metadata": {},
   "outputs": [
    {
     "ename": "SyntaxError",
     "evalue": "invalid character '’' (U+2019) (189925125.py, line 2)",
     "output_type": "error",
     "traceback": [
      "\u001b[1;36m  Cell \u001b[1;32mIn[4], line 2\u001b[1;36m\u001b[0m\n\u001b[1;33m    with open(’P1_data . txt ’ , ’w ’) as f :\u001b[0m\n\u001b[1;37m              ^\u001b[0m\n\u001b[1;31mSyntaxError\u001b[0m\u001b[1;31m:\u001b[0m invalid character '’' (U+2019)\n"
     ]
    }
   ],
   "source": [
    "! gdown https :// drive . google . com / uc ?id =1 IBScGdW2xlNsc9v5zSAya548kNgiOrko\n",
    "with open(’P1_data . txt ’ , ’w ’) as f :\n",
    "    sentences = f.readlines ()\n",
    "type ( sentences )\n",
    "\n",
    "def count_word ( file_path ) :\n",
    "    counter = {}\n",
    "\n",
    "    # Your Code Here\n",
    "\n",
    "    # End Code Here\n",
    "\n",
    "    return counter\n",
    "file_path = ’/ content / P1_data . txt ’\n",
    "result = count_word ( file_path )\n",
    "assert result [’who ’] == 3\n",
    "print ( result [’man ’])"
   ]
  }
 ],
 "metadata": {
  "kernelspec": {
   "display_name": "aio2024_env",
   "language": "python",
   "name": "python3"
  },
  "language_info": {
   "codemirror_mode": {
    "name": "ipython",
    "version": 3
   },
   "file_extension": ".py",
   "mimetype": "text/x-python",
   "name": "python",
   "nbconvert_exporter": "python",
   "pygments_lexer": "ipython3",
   "version": "3.11.7"
  }
 },
 "nbformat": 4,
 "nbformat_minor": 2
}
